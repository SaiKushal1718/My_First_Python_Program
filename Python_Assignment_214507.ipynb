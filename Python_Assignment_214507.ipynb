{
  "nbformat": 4,
  "nbformat_minor": 0,
  "metadata": {
    "colab": {
      "name": "Python Assignment_214507.ipynb",
      "provenance": [],
      "collapsed_sections": [],
      "authorship_tag": "ABX9TyOqzrNdLNFdquCCAKsSStO+",
      "include_colab_link": true
    },
    "kernelspec": {
      "name": "python3",
      "display_name": "Python 3"
    },
    "language_info": {
      "name": "python"
    }
  },
  "cells": [
    {
      "cell_type": "markdown",
      "metadata": {
        "id": "view-in-github",
        "colab_type": "text"
      },
      "source": [
        "<a href=\"https://colab.research.google.com/github/SaiKushal1718/My_First_Python_Program/blob/main/Python_Assignment_214507.ipynb\" target=\"_parent\"><img src=\"https://colab.research.google.com/assets/colab-badge.svg\" alt=\"Open In Colab\"/></a>"
      ]
    },
    {
      "cell_type": "code",
      "execution_count": null,
      "metadata": {
        "id": "nHfb3AFm75ct"
      },
      "outputs": [],
      "source": [
        ""
      ]
    },
    {
      "cell_type": "markdown",
      "source": [
        ""
      ],
      "metadata": {
        "id": "NHhCaZ6T2lxU"
      }
    },
    {
      "cell_type": "markdown",
      "source": [
        "Sairam I will be starting my first program Keyword Syntax Error/Mistakes Debugging"
      ],
      "metadata": {
        "id": "8OZGTSOv8BNA"
      }
    },
    {
      "cell_type": "code",
      "source": [
        ""
      ],
      "metadata": {
        "id": "rXoxU3mm8cf2"
      },
      "execution_count": null,
      "outputs": []
    },
    {
      "cell_type": "code",
      "source": [
        "print(\"SATYA SAI\")"
      ],
      "metadata": {
        "colab": {
          "base_uri": "https://localhost:8080/"
        },
        "id": "O7trkGuZI5dg",
        "outputId": "3e728139-2ce9-4605-b64f-dc8607bc1c7a"
      },
      "execution_count": null,
      "outputs": [
        {
          "output_type": "stream",
          "name": "stdout",
          "text": [
            "SATYA SAI\n"
          ]
        }
      ]
    },
    {
      "cell_type": "code",
      "source": [
        "print('SRI')\n",
        "print('SATYA')\n",
        "print('SAI')\n",
        "k=18\n",
        "print (k)"
      ],
      "metadata": {
        "colab": {
          "base_uri": "https://localhost:8080/"
        },
        "id": "ZKx2ezc5JUgK",
        "outputId": "4e3553e6-b501-448d-e4f2-d2e1ca2475dd"
      },
      "execution_count": null,
      "outputs": [
        {
          "output_type": "stream",
          "name": "stdout",
          "text": [
            "SRI\n",
            "SATYA\n",
            "SAI\n",
            "18\n"
          ]
        }
      ]
    },
    {
      "cell_type": "code",
      "source": [
        "print(\"Hello, World\")\n",
        "if 9 > 6 :\n",
        "  print(\"nine is greater than six\")"
      ],
      "metadata": {
        "colab": {
          "base_uri": "https://localhost:8080/"
        },
        "id": "23MzDyyqLcso",
        "outputId": "e1c5f94e-e98e-4550-e6fe-79e94d561224"
      },
      "execution_count": null,
      "outputs": [
        {
          "output_type": "stream",
          "name": "stdout",
          "text": [
            "Hello, World\n",
            "nine is greater than six\n"
          ]
        }
      ]
    },
    {
      "cell_type": "code",
      "source": [
        "type (18)\n",
        "type(1.8)\n",
        "a = type (10)\n",
        "print (a)"
      ],
      "metadata": {
        "colab": {
          "base_uri": "https://localhost:8080/"
        },
        "id": "wgYQSiHn4c-z",
        "outputId": "d61e9f45-0711-435b-82af-034e5f84c3ef"
      },
      "execution_count": null,
      "outputs": [
        {
          "output_type": "stream",
          "name": "stdout",
          "text": [
            "<class 'int'>\n"
          ]
        }
      ]
    },
    {
      "cell_type": "code",
      "source": [
        "int (1.9)"
      ],
      "metadata": {
        "colab": {
          "base_uri": "https://localhost:8080/"
        },
        "id": "12wWgjH35O3b",
        "outputId": "3f0117e8-e492-48b7-a82e-bcdc288c864e"
      },
      "execution_count": null,
      "outputs": [
        {
          "output_type": "execute_result",
          "data": {
            "text/plain": [
              "1"
            ]
          },
          "metadata": {},
          "execution_count": 6
        }
      ]
    },
    {
      "cell_type": "code",
      "source": [
        "str (21)"
      ],
      "metadata": {
        "colab": {
          "base_uri": "https://localhost:8080/",
          "height": 35
        },
        "id": "d2Tyh5ko5cGe",
        "outputId": "2df43ae7-0dc0-4aa3-c477-bc35126e93c1"
      },
      "execution_count": null,
      "outputs": [
        {
          "output_type": "execute_result",
          "data": {
            "application/vnd.google.colaboratory.intrinsic+json": {
              "type": "string"
            },
            "text/plain": [
              "'21'"
            ]
          },
          "metadata": {},
          "execution_count": 7
        }
      ]
    },
    {
      "cell_type": "code",
      "source": [
        "True\n",
        "False"
      ],
      "metadata": {
        "colab": {
          "base_uri": "https://localhost:8080/"
        },
        "id": "Jc_817Em5r3K",
        "outputId": "a31401b6-f486-4a69-9e33-43c3dc6e58ef"
      },
      "execution_count": null,
      "outputs": [
        {
          "output_type": "execute_result",
          "data": {
            "text/plain": [
              "False"
            ]
          },
          "metadata": {},
          "execution_count": 9
        }
      ]
    },
    {
      "cell_type": "code",
      "source": [
        "bool (1)"
      ],
      "metadata": {
        "colab": {
          "base_uri": "https://localhost:8080/"
        },
        "id": "VnV_XWUr6DfV",
        "outputId": "5abfe982-acea-4105-917f-13a84acb236e"
      },
      "execution_count": null,
      "outputs": [
        {
          "output_type": "execute_result",
          "data": {
            "text/plain": [
              "True"
            ]
          },
          "metadata": {},
          "execution_count": 11
        }
      ]
    },
    {
      "cell_type": "code",
      "source": [
        "int(True)"
      ],
      "metadata": {
        "colab": {
          "base_uri": "https://localhost:8080/"
        },
        "id": "oc7B9rm_6N3J",
        "outputId": "f693d99f-de61-48f9-f236-c4faae6e8ab1"
      },
      "execution_count": null,
      "outputs": [
        {
          "output_type": "execute_result",
          "data": {
            "text/plain": [
              "1"
            ]
          },
          "metadata": {},
          "execution_count": 12
        }
      ]
    },
    {
      "cell_type": "code",
      "source": [
        "float(True)"
      ],
      "metadata": {
        "colab": {
          "base_uri": "https://localhost:8080/"
        },
        "id": "5N7YGmGFvtIt",
        "outputId": "478f7ccd-ac53-4ba6-91bf-a39426848c82"
      },
      "execution_count": null,
      "outputs": [
        {
          "output_type": "execute_result",
          "data": {
            "text/plain": [
              "1.0"
            ]
          },
          "metadata": {},
          "execution_count": 3
        }
      ]
    },
    {
      "cell_type": "code",
      "source": [
        "a = 8//2\n",
        "print(\"coficient is\",a)"
      ],
      "metadata": {
        "colab": {
          "base_uri": "https://localhost:8080/"
        },
        "id": "qcWOLvP0vyv4",
        "outputId": "2c848d96-3469-4e03-f804-c3552700ec9a"
      },
      "execution_count": null,
      "outputs": [
        {
          "output_type": "stream",
          "name": "stdout",
          "text": [
            "coficient is 4\n"
          ]
        }
      ]
    },
    {
      "cell_type": "code",
      "source": [
        "p = 13%2\n",
        "print (p)"
      ],
      "metadata": {
        "colab": {
          "base_uri": "https://localhost:8080/"
        },
        "id": "OUyt0OdLv6M3",
        "outputId": "b4cc338c-fefa-443d-9a98-9bfd2d1411aa"
      },
      "execution_count": null,
      "outputs": [
        {
          "output_type": "stream",
          "name": "stdout",
          "text": [
            "1\n"
          ]
        }
      ]
    },
    {
      "cell_type": "code",
      "source": [
        "name = \"Kushal\"\n",
        "print (name[2])"
      ],
      "metadata": {
        "colab": {
          "base_uri": "https://localhost:8080/"
        },
        "id": "Ur9FFXriwLf6",
        "outputId": "a7bbf41b-89af-4b01-a500-5c1e6b24144a"
      },
      "execution_count": null,
      "outputs": [
        {
          "output_type": "stream",
          "name": "stdout",
          "text": [
            "s\n"
          ]
        }
      ]
    },
    {
      "cell_type": "code",
      "source": [
        "print (name[-3])"
      ],
      "metadata": {
        "colab": {
          "base_uri": "https://localhost:8080/"
        },
        "id": "N5hjou-JwUsx",
        "outputId": "a3c4768f-bd81-4bfa-902c-d2065077fbdc"
      },
      "execution_count": null,
      "outputs": [
        {
          "output_type": "stream",
          "name": "stdout",
          "text": [
            "h\n"
          ]
        }
      ]
    },
    {
      "cell_type": "code",
      "source": [
        "len ('Kushal')"
      ],
      "metadata": {
        "colab": {
          "base_uri": "https://localhost:8080/"
        },
        "id": "4LjCKtTmwdAO",
        "outputId": "949cf167-0af0-4d45-b544-aa5e485bd57c"
      },
      "execution_count": null,
      "outputs": [
        {
          "output_type": "execute_result",
          "data": {
            "text/plain": [
              "6"
            ]
          },
          "metadata": {},
          "execution_count": 13
        }
      ]
    },
    {
      "cell_type": "code",
      "source": [
        "name[0:4]"
      ],
      "metadata": {
        "colab": {
          "base_uri": "https://localhost:8080/",
          "height": 35
        },
        "id": "QVuN-nzJwkHp",
        "outputId": "4d1154d7-fec8-49a9-a3ca-6f131623af60"
      },
      "execution_count": null,
      "outputs": [
        {
          "output_type": "execute_result",
          "data": {
            "text/plain": [
              "'Kush'"
            ],
            "application/vnd.google.colaboratory.intrinsic+json": {
              "type": "string"
            }
          },
          "metadata": {},
          "execution_count": 14
        }
      ]
    },
    {
      "cell_type": "markdown",
      "source": [
        "**Chapter 2** 2nd"
      ],
      "metadata": {
        "id": "ZX1h3p2b9yJq"
      }
    },
    {
      "cell_type": "code",
      "source": [
        "name = \"chunk\"\n",
        "print (\"hello \" + name )"
      ],
      "metadata": {
        "colab": {
          "base_uri": "https://localhost:8080/"
        },
        "id": "mMv0qonY8w-G",
        "outputId": "316b2f27-eeea-4db1-ee71-58b096edd892"
      },
      "execution_count": null,
      "outputs": [
        {
          "output_type": "stream",
          "name": "stdout",
          "text": [
            "hello chunk\n"
          ]
        }
      ]
    },
    {
      "cell_type": "markdown",
      "source": [
        "**Chapter 2** 3rd"
      ],
      "metadata": {
        "id": "s0x6iAro95bB"
      }
    },
    {
      "cell_type": "code",
      "source": [
        "h = 28\n",
        "p = 5.8\n",
        "gross = h * p\n",
        "print (gross)"
      ],
      "metadata": {
        "colab": {
          "base_uri": "https://localhost:8080/"
        },
        "id": "23IA62jb99Jy",
        "outputId": "cf0cf2b4-f5b1-469d-8af2-b8191423fa81"
      },
      "execution_count": null,
      "outputs": [
        {
          "output_type": "stream",
          "name": "stdout",
          "text": [
            "162.4\n"
          ]
        }
      ]
    },
    {
      "cell_type": "markdown",
      "source": [
        "**Chapter 2** 4th"
      ],
      "metadata": {
        "id": "ZeRkdTdA_BIq"
      }
    },
    {
      "cell_type": "code",
      "source": [
        "width = 32\n",
        "height = 26.2\n",
        "print (width//2)"
      ],
      "metadata": {
        "colab": {
          "base_uri": "https://localhost:8080/"
        },
        "id": "mQl4PvRh_FMR",
        "outputId": "3618cee4-06ff-41da-cece-996e26920ad9"
      },
      "execution_count": null,
      "outputs": [
        {
          "output_type": "stream",
          "name": "stdout",
          "text": [
            "16\n"
          ]
        }
      ]
    },
    {
      "cell_type": "code",
      "source": [
        "print (width/2.0)"
      ],
      "metadata": {
        "colab": {
          "base_uri": "https://localhost:8080/"
        },
        "id": "AhBtqQBU_2I_",
        "outputId": "08c5772a-3053-450d-f348-7034ca48b96a"
      },
      "execution_count": null,
      "outputs": [
        {
          "output_type": "stream",
          "name": "stdout",
          "text": [
            "16.0\n"
          ]
        }
      ]
    },
    {
      "cell_type": "code",
      "source": [
        "print (height/3)"
      ],
      "metadata": {
        "colab": {
          "base_uri": "https://localhost:8080/"
        },
        "id": "gHWO4RLqAAs_",
        "outputId": "249833d3-93bd-425f-ad57-17c3300e6712"
      },
      "execution_count": null,
      "outputs": [
        {
          "output_type": "stream",
          "name": "stdout",
          "text": [
            "8.733333333333333\n"
          ]
        }
      ]
    },
    {
      "cell_type": "code",
      "source": [
        "k = 30 + 25 * 32\n",
        "print (k)"
      ],
      "metadata": {
        "colab": {
          "base_uri": "https://localhost:8080/"
        },
        "id": "8RsQSAaWAPlT",
        "outputId": "c5ecb5d0-4235-4cb8-93c7-6e4ffc536090"
      },
      "execution_count": null,
      "outputs": [
        {
          "output_type": "stream",
          "name": "stdout",
          "text": [
            "830\n"
          ]
        }
      ]
    },
    {
      "cell_type": "markdown",
      "source": [
        "**Chapter 2** 5th"
      ],
      "metadata": {
        "id": "A7gUeGwFCB5W"
      }
    },
    {
      "cell_type": "code",
      "source": [
        "C = 58.2\n",
        "f = ( C * 9/5 ) + 32\n",
        "print (f)\n"
      ],
      "metadata": {
        "colab": {
          "base_uri": "https://localhost:8080/"
        },
        "id": "IAsYybDuCFFT",
        "outputId": "5a663ac0-2596-4602-b482-17b65f55a602"
      },
      "execution_count": null,
      "outputs": [
        {
          "output_type": "stream",
          "name": "stdout",
          "text": [
            "136.76000000000002\n"
          ]
        }
      ]
    },
    {
      "cell_type": "code",
      "source": [
        "name1 = \" Earth revolves around the sun \"\n",
        "print (name1 [6:15])"
      ],
      "metadata": {
        "colab": {
          "base_uri": "https://localhost:8080/"
        },
        "id": "AzMGdkSvEVAT",
        "outputId": "c458e2a4-3d18-4be7-871d-e5dfeaceb97e"
      },
      "execution_count": null,
      "outputs": [
        {
          "output_type": "stream",
          "name": "stdout",
          "text": [
            " revolves\n"
          ]
        }
      ]
    },
    {
      "cell_type": "code",
      "source": [
        "name1 [-4:-1]"
      ],
      "metadata": {
        "colab": {
          "base_uri": "https://localhost:8080/",
          "height": 35
        },
        "id": "pDXTBFa5E_sR",
        "outputId": "25592429-bf7d-429c-c2d6-15ca7e0ff218"
      },
      "execution_count": null,
      "outputs": [
        {
          "output_type": "execute_result",
          "data": {
            "application/vnd.google.colaboratory.intrinsic+json": {
              "type": "string"
            },
            "text/plain": [
              "'sun'"
            ]
          },
          "metadata": {},
          "execution_count": 24
        }
      ]
    },
    {
      "cell_type": "code",
      "source": [
        "name2 = \"I love eating\"\n",
        "name3 = \" veggies \"\n",
        "name4 = \" fruits \"\n",
        "print (name2  + name3  +  \"and\" +  name4)"
      ],
      "metadata": {
        "colab": {
          "base_uri": "https://localhost:8080/"
        },
        "id": "w40Fs0u1FXZR",
        "outputId": "1e1f9136-6d1b-4b02-e12c-c5c108f512a8"
      },
      "execution_count": null,
      "outputs": [
        {
          "output_type": "stream",
          "name": "stdout",
          "text": [
            "I love eating veggies and fruits \n"
          ]
        }
      ]
    },
    {
      "cell_type": "code",
      "source": [
        "num = \" 4 \"\n",
        "print (name2 + num + name4 + \" everyday \")"
      ],
      "metadata": {
        "colab": {
          "base_uri": "https://localhost:8080/"
        },
        "id": "Y9W7_IkdGoSL",
        "outputId": "d846bd32-78bd-41b8-e877-9753f4ce657f"
      },
      "execution_count": null,
      "outputs": [
        {
          "output_type": "stream",
          "name": "stdout",
          "text": [
            "I love eating 4  fruits  everyday \n"
          ]
        }
      ]
    },
    {
      "cell_type": "markdown",
      "source": [
        "Leap Year.."
      ],
      "metadata": {
        "id": "zEoxyxDbbzmu"
      }
    },
    {
      "cell_type": "code",
      "source": [
        "year = int (input(\"Enter the year:\"))\n",
        "if (year % 400 == 0):\n",
        "   print (\"Year is Leap Year\")\n",
        "elif (year % 4 == 0 and year % 100 != 0):\n",
        "   print (\"Year is Leap Year\")\n",
        "else:\n",
        "   print (\"Year is not Leap Year\")   "
      ],
      "metadata": {
        "colab": {
          "base_uri": "https://localhost:8080/"
        },
        "id": "aItxujDcb26L",
        "outputId": "336e27c8-e02c-4dee-f006-7d552a20635f"
      },
      "execution_count": null,
      "outputs": [
        {
          "output_type": "stream",
          "name": "stdout",
          "text": [
            "Enter the year:2004\n",
            "Year is Leap Year\n"
          ]
        }
      ]
    },
    {
      "cell_type": "code",
      "source": [
        "price1 = float(input('Enter the 1 price : '))\n",
        "piece1 = float(input('Enter the 1 box : '))\n",
        "price2 = float(input('Enter the 2 price : '))\n",
        "piece2 = float(input('Enter the 2 box : '))\n",
        "\n",
        "elasticity = (piece2 - piece1) / (price2 - price1)\n",
        "print(elasticity)\n",
        "if (elasticity < 1) :\n",
        " print(\"inelasatic\")\n",
        "elif (elasticity > 1) :\n",
        " print (\"elastc\")"
      ],
      "metadata": {
        "id": "9AjydETgtN0V"
      },
      "execution_count": null,
      "outputs": []
    },
    {
      "cell_type": "markdown",
      "source": [
        "**Chapter 3** 1st"
      ],
      "metadata": {
        "id": "HoVvArOnngJ2"
      }
    },
    {
      "cell_type": "code",
      "source": [
        "a = float(input(\"Enter Hour\\n\"))\n",
        "b = float(input(\"Enter rate\\n\"))\n",
        "\n",
        "if(a>40):\n",
        "  c=(a-40)*1.5*b+(40*b)\n",
        "else:\n",
        "  c=a*b  \n",
        "  \n",
        "print(c)"
      ],
      "metadata": {
        "colab": {
          "base_uri": "https://localhost:8080/"
        },
        "id": "ooiOzvjmnjgi",
        "outputId": "1d14d8d1-e152-48db-95a6-b798a953c438"
      },
      "execution_count": null,
      "outputs": [
        {
          "output_type": "stream",
          "name": "stdout",
          "text": [
            "Enter Hour\n",
            "50\n",
            "Enter rate\n",
            "40\n",
            "2200.0\n"
          ]
        }
      ]
    },
    {
      "cell_type": "markdown",
      "source": [
        "**Chapter 3** 2nd"
      ],
      "metadata": {
        "id": "y6uhS2qypRCP"
      }
    },
    {
      "cell_type": "code",
      "source": [
        "try:\n",
        "   a = float(input(\"Enter Hour\\n\"))\n",
        "   b = float(input(\"Enter rate\\n\"))\n",
        "\n",
        "   if (a>40):\n",
        "     c=(a-40)*1.5*b+(40*b)\n",
        "   else:\n",
        "     c=a*b   \n",
        "     print(c)\n",
        "except:\n",
        "  print(\"Please enter numeric input\")"
      ],
      "metadata": {
        "id": "i__mQcl5p4p4"
      },
      "execution_count": null,
      "outputs": []
    },
    {
      "cell_type": "markdown",
      "source": [
        "**Chapter 3** 3rd"
      ],
      "metadata": {
        "id": "dD-XgufbqMuR"
      }
    },
    {
      "cell_type": "code",
      "source": [
        "a=float(input(\"Enter your score\\n\"))\n",
        "if(a<0.0 or a>1.0) :\n",
        "  print(\"Score is out of range!!\")\n",
        "elif(a>=0.9):\n",
        "  print(\"A\")\n",
        "elif(a>=0.8):\n",
        "  print(\"B\")\n",
        "elif(a>=0.7):\n",
        "  print(\"C\")\n",
        "elif(a>=0.6):\n",
        "  print(\"D\")      \n",
        "else:\n",
        "  print(\"F\")\n"
      ],
      "metadata": {
        "colab": {
          "base_uri": "https://localhost:8080/"
        },
        "id": "CV6GFp-AqTWQ",
        "outputId": "21aa6c9c-f0db-4ef7-cfa0-ace6a3d0d8d5"
      },
      "execution_count": null,
      "outputs": [
        {
          "output_type": "stream",
          "name": "stdout",
          "text": [
            "Enter your score\n",
            "0.2\n",
            "F\n"
          ]
        }
      ]
    },
    {
      "cell_type": "markdown",
      "source": [
        "**Chapter 4** 5th"
      ],
      "metadata": {
        "id": "Kv71jJrh2oj4"
      }
    },
    {
      "cell_type": "code",
      "source": [
        "def fred():\n",
        " print(\"Zap\")\n",
        "def jane():\n",
        " print(\"ABC\")\n",
        "jane()\n",
        "fred()\n",
        "jane()"
      ],
      "metadata": {
        "colab": {
          "base_uri": "https://localhost:8080/"
        },
        "id": "mWhrGgui2yeh",
        "outputId": "3d0dc5ae-f525-4d4b-b3f7-866c916551bc"
      },
      "execution_count": null,
      "outputs": [
        {
          "output_type": "stream",
          "name": "stdout",
          "text": [
            "ABC\n",
            "Zap\n",
            "ABC\n"
          ]
        }
      ]
    },
    {
      "cell_type": "markdown",
      "source": [
        "**Chapter 4** 6th"
      ],
      "metadata": {
        "id": "d4_2xgKz4o-j"
      }
    },
    {
      "cell_type": "code",
      "source": [
        "def computepay(Hours,rate):\n",
        "  if(Hours>40):\n",
        "    pay=(Hours-40)*1.5*rate+(40*rate)\n",
        "  else:\n",
        "    pay=Hours*rate  \n",
        "  return pay\n",
        "\n",
        "Hours = float(input(\"Enter Hour\\n\"))\n",
        "rate = float(input(\"Enter rate\\n\"))\n",
        "pay = computepay(Hours , rate)  \n",
        "print( 'pay :',pay)"
      ],
      "metadata": {
        "colab": {
          "base_uri": "https://localhost:8080/"
        },
        "id": "0yvQSxrq4x4a",
        "outputId": "25ae76c2-b362-4b41-d78b-4ad62eaf424f"
      },
      "execution_count": null,
      "outputs": [
        {
          "output_type": "stream",
          "name": "stdout",
          "text": [
            "Enter Hour\n",
            "45\n",
            "Enter rate\n",
            "10\n",
            "pay : 475.0\n"
          ]
        }
      ]
    },
    {
      "cell_type": "markdown",
      "source": [
        "**Chapter 4** 7th"
      ],
      "metadata": {
        "id": "O9q-aE7A8mp-"
      }
    },
    {
      "cell_type": "code",
      "source": [
        "def computegrade(score):\n",
        "  if(score<0.0 or score>1.0) :\n",
        "    return(\"Score is out of range!!\")\n",
        "  elif(score>=0.9):\n",
        "    return(\"A\")\n",
        "  elif(score>=0.8):\n",
        "    return(\"B\")\n",
        "  elif(score>=0.7):\n",
        "    return(\"C\")\n",
        "  elif(score>=0.6):\n",
        "    return(\"D\")      \n",
        "  else:\n",
        "    return(\"F\")\n",
        "try:\n",
        "  score=float(input(\"Enter your score\\n\"))\n",
        "  print(computegrade(score))\n",
        "except Exception :\n",
        "  print('Enter a number')"
      ],
      "metadata": {
        "colab": {
          "base_uri": "https://localhost:8080/"
        },
        "id": "67VXhswG8sfz",
        "outputId": "b0b9d229-eb7e-48c2-d95a-a94992eb0f28"
      },
      "execution_count": null,
      "outputs": [
        {
          "output_type": "stream",
          "name": "stdout",
          "text": [
            "Enter your score\n",
            "Sairam\n",
            "Enter a number\n"
          ]
        }
      ]
    },
    {
      "cell_type": "markdown",
      "source": [
        "**Chapter 5** 1st"
      ],
      "metadata": {
        "id": "v94YvnRx_del"
      }
    },
    {
      "cell_type": "code",
      "source": [
        "count=0\n",
        "total=0\n",
        "while True :\n",
        "  value=input('Enter the number\\n')\n",
        "  if (value=='done'):\n",
        "    break\n",
        "  try:\n",
        "    value1=float(value)\n",
        "  except:\n",
        "    print('Invalid input')\n",
        "  total=total+value1\n",
        "  count=count+1\n",
        "print(total,count,total/count)\n"
      ],
      "metadata": {
        "colab": {
          "base_uri": "https://localhost:8080/"
        },
        "id": "eEF249z8_hoo",
        "outputId": "c9c427b4-7586-4591-97b6-0dfa05af4b02"
      },
      "execution_count": null,
      "outputs": [
        {
          "output_type": "stream",
          "name": "stdout",
          "text": [
            "Enter the number\n",
            "4\n",
            "Enter the number\n",
            "3\n",
            "Enter the number\n",
            "9\n",
            "Enter the number\n",
            "done\n",
            "16.0 3 5.333333333333333\n"
          ]
        }
      ]
    },
    {
      "cell_type": "markdown",
      "source": [
        "**Chapter 5** 2nd"
      ],
      "metadata": {
        "id": "Zh4fVfRVFWlX"
      }
    },
    {
      "cell_type": "code",
      "source": [
        "count=0\n",
        "list=[]\n",
        "while True :\n",
        "  element=input('Enter the number\\n')\n",
        "  if (element=='done'):\n",
        "    break\n",
        "  try:\n",
        "    value1=float(element)\n",
        "    list.append(value1)\n",
        "    \n",
        "  except:\n",
        "    print('Invalid input')\n",
        "\n",
        "  if count==0 :\n",
        "    min_val=value1\n",
        "    max_val=value1\n",
        "  elif value1<min_val:\n",
        "    min_val=value1\n",
        "  elif value1>max_val:\n",
        "    max_val=value1\n",
        "\n",
        "  count=count+1\n",
        "print('The list of elements are :',list)\n",
        "print(min_val , max_val)"
      ],
      "metadata": {
        "colab": {
          "base_uri": "https://localhost:8080/"
        },
        "id": "U1S38qQVxXXB",
        "outputId": "00d1286a-58e9-4e33-81a0-3e2fd4228a60"
      },
      "execution_count": null,
      "outputs": [
        {
          "output_type": "stream",
          "name": "stdout",
          "text": [
            "Enter the number\n",
            "45\n",
            "Enter the number\n",
            "25\n",
            "Enter the number\n",
            "554\n",
            "Enter the number\n",
            "56\n",
            "Enter the number\n",
            "98\n",
            "Enter the number\n",
            "Finish\n",
            "Invalid input\n",
            "Enter the number\n",
            "done\n",
            "The list of elements are : [45.0, 25.0, 554.0, 56.0, 98.0]\n",
            "25.0 554.0\n"
          ]
        }
      ]
    },
    {
      "cell_type": "markdown",
      "source": [
        "**Chapter 8**"
      ],
      "metadata": {
        "id": "fHtunZNCZx5r"
      }
    },
    {
      "cell_type": "code",
      "source": [
        "my_nums = []\n",
        "\n",
        "while True:\n",
        "  a = input(\"Enter a number:\")\n",
        "  if a == 'done' :\n",
        "    break\n",
        "  try:\n",
        "    val = float(a)\n",
        "  except:\n",
        "    print(\"invalid input\")\n",
        "    continue\n",
        "  my_nums.append(val)\n",
        " \n",
        "\n",
        "print(min(my_nums) )\n",
        "print(max(my_nums))"
      ],
      "metadata": {
        "colab": {
          "base_uri": "https://localhost:8080/"
        },
        "id": "-1YT6VfMudBE",
        "outputId": "ff10a3fa-fc6e-49f2-d7d4-7e7c8ab0bc82"
      },
      "execution_count": null,
      "outputs": [
        {
          "output_type": "stream",
          "name": "stdout",
          "text": [
            "Enter a number:7676\n",
            "Enter a number:276\n",
            "Enter a number:6\n",
            "Enter a number:787\n",
            "Enter a number:56789\n",
            "Enter a number:567\n",
            "Enter a number:999\n",
            "Enter a number:done\n",
            "6.0\n",
            "56789.0\n"
          ]
        }
      ]
    },
    {
      "cell_type": "code",
      "source": [
        ""
      ],
      "metadata": {
        "id": "0QpxRpX5ubTE"
      },
      "execution_count": null,
      "outputs": []
    }
  ]
}